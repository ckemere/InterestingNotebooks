{
 "cells": [
  {
   "cell_type": "code",
   "execution_count": 25,
   "metadata": {},
   "outputs": [],
   "source": [
    "import numpy as np\n",
    "import matplotlib.pyplot as plt"
   ]
  },
  {
   "cell_type": "markdown",
   "metadata": {},
   "source": [
    "# Generating samples from a **Homogeneous** Poisson process\n",
    "\n",
    "A Poisson process generates a series of events. For a **homogeneous** process, we describe the process by a rate of events in a time window, $\\lambda$. The count (number) of events observerd is distributed as a $\\text{Poisson}(\\lambda T)$ where $T$ is the length of the window of observation. The time between each event (\"inter-event interval\") is distributed as an $\\text{Exponential}(\\frac{1}{\\lambda T})$."
   ]
  },
  {
   "cell_type": "code",
   "execution_count": null,
   "metadata": {},
   "outputs": [],
   "source": [
    "# Describe our Poisson process\n",
    "L = 10 # event rate (Hz )\n",
    "T = 1 # duration during which events occur (s)\n",
    "\n",
    "# We will observe the process a large number of times (to test efficiency)\n",
    "K = 100000 # number of trials of random process"
   ]
  },
  {
   "cell_type": "markdown",
   "metadata": {},
   "source": [
    "### Three methods:\n",
    "  - Generate using a Bernoulli approximation with very small bins of time.\n",
    "  - Generate ISIs from an exponential RV.\n",
    "  - Generate using Poisson and Uniform trick"
   ]
  },
  {
   "cell_type": "code",
   "execution_count": 4,
   "metadata": {},
   "outputs": [
    {
     "name": "stdout",
     "output_type": "stream",
     "text": [
      "CPU times: user 1.05 s, sys: 256 ms, total: 1.31 s\n",
      "Wall time: 1.31 s\n"
     ]
    }
   ],
   "source": [
    "%%time\n",
    "# Generating using bernoulli approximation\n",
    "nbins = 1000\n",
    "\n",
    "RateMatrix = np.ones((nbins,K)) * L / T / nbins\n",
    "\n",
    "Data = np.random.rand(nbins,K) < RateMatrix\n"
   ]
  },
  {
   "cell_type": "code",
   "execution_count": 5,
   "metadata": {},
   "outputs": [
    {
     "name": "stdout",
     "output_type": "stream",
     "text": [
      "CPU times: user 1.39 s, sys: 7.64 ms, total: 1.4 s\n",
      "Wall time: 1.4 s\n"
     ]
    }
   ],
   "source": [
    "%%time\n",
    "# Generate using exponential RV\n",
    "spiketimes = []\n",
    "for k in range(K):\n",
    "    sample = np.random.exponential(1/L,50) ## NOTE - 50 might not be enough!!\n",
    "    assert(np.sum(sample) > T)\n",
    "    if (sample[0] > T): # (We observed no events)\n",
    "        spiketimes.append([])\n",
    "    else:\n",
    "        lastindex = np.argwhere(np.cumsum(sample) < T)[-1][0]\n",
    "        spiketimes.append(np.cumsum(sample[:lastindex]))\n",
    "        \n"
   ]
  },
  {
   "cell_type": "code",
   "execution_count": 14,
   "metadata": {},
   "outputs": [
    {
     "name": "stdout",
     "output_type": "stream",
     "text": [
      "CPU times: user 394 ms, sys: 0 ns, total: 394 ms\n",
      "Wall time: 395 ms\n"
     ]
    }
   ],
   "source": [
    "%%time\n",
    "# Generate using Poisson and Uniform trick\n",
    "\n",
    "Events = np.random.poisson(L,K)\n",
    "spiketimes = []\n",
    "for k in range(K):\n",
    "    spiketimes.append(np.sort(np.random.rand(Events[k])*T))\n"
   ]
  },
  {
   "cell_type": "code",
   "execution_count": 100,
   "metadata": {},
   "outputs": [
    {
     "data": {
      "text/plain": [
       "(0, 1)"
      ]
     },
     "execution_count": 100,
     "metadata": {},
     "output_type": "execute_result"
    },
    {
     "data": {
      "image/png": "[encoded data removed]",
      "text/plain": [
       "<Figure size 432x288 with 1 Axes>"
      ]
     },
     "metadata": {
      "needs_background": "light"
     },
     "output_type": "display_data"
    }
   ],
   "source": [
    "# Show one example event\n",
    "plt.stem(spiketimes[0],np.ones(len(spiketimes[0])), use_line_collection=True)\n",
    "plt.gca().set_xlim(0,T)"
   ]
  },
  {
   "cell_type": "code",
   "execution_count": 34,
   "metadata": {},
   "outputs": [
    {
     "data": {
      "image/png": "[encoded data removed]",
      "text/plain": [
       "<Figure size 432x288 with 1 Axes>"
      ]
     },
     "metadata": {
      "needs_background": "light"
     },
     "output_type": "display_data"
    }
   ],
   "source": [
    "# Show that our events have exponential ISIs\n",
    "ISIs = []\n",
    "for k in range(K):\n",
    "    if len(spiketimes[k]) == 0:\n",
    "        continue\n",
    "    ISIs.append(spiketimes[k][0])\n",
    "    ISIs.extend(np.diff(np.array(spiketimes[k])).tolist())\n",
    "\n",
    "import seaborn as sns    \n",
    "sns.distplot(np.array(ISIs),100, kde=False);"
   ]
  },
  {
   "cell_type": "code",
   "execution_count": 90,
   "metadata": {},
   "outputs": [
    {
     "data": {
      "text/plain": [
       "<BarContainer object of 100 artists>"
      ]
     },
     "execution_count": 90,
     "metadata": {},
     "output_type": "execute_result"
    },
    {
     "data": {
      "image/png": "[encoded data removed]",
      "text/plain": [
       "<Figure size 432x288 with 1 Axes>"
      ]
     },
     "metadata": {
      "needs_background": "light"
     },
     "output_type": "display_data"
    }
   ],
   "source": [
    "# Show something more interesting - that our events are equally likely across T\n",
    "\n",
    "AllEventTimes = np.hstack(spiketimes)\n",
    "nHistBins = 100\n",
    "HistBins = np.linspace(0,T,nHistBins + 1)\n",
    "BinDuration = T/nHistBins\n",
    "vals, bin_edges = np.histogram(AllEventTimes,bins=HistBins)\n",
    "\n",
    "EventRate = vals / K / HistBinSize # Number of events observed in each bin / Number of Observations / BinDuration\n",
    "\n",
    "plt.plot(HistBins,np.ones(HistBins.shape) * L, 'r', label='Expected Rate = 10 Hz')\n",
    "plt.gca().set_ylabel('Observed rate in small bins (Hz)')\n",
    "plt.gca().legend()\n",
    "plt.bar(HistBins[:-1] + BinDuration/2, EventRate ,width=BinDuration)\n"
   ]
  },
  {
   "cell_type": "markdown",
   "metadata": {},
   "source": [
    "# Generating samples from an **Inhomogeneous** Poisson process"
   ]
  },
  {
   "cell_type": "markdown",
   "metadata": {},
   "source": [
    "### Three methods:\n",
    "  - Generate using a Bernoulli approximation with very small bins of time. *(Still works!)*\n",
    "  - Generate using a homogeneous Poisson process and *deletion*\n",
    "  - Generate ISIs from an exponential RV and apply the time rescaling theorem **not shown**"
   ]
  },
  {
   "cell_type": "code",
   "execution_count": 43,
   "metadata": {},
   "outputs": [],
   "source": [
    "# Let's define our rate function to be a ramp\n",
    "def rate(t):\n",
    "    return 10*t"
   ]
  },
  {
   "cell_type": "markdown",
   "metadata": {},
   "source": [
    "### Inhomogeneous Poisson Process Method 1: Bernouli approximation"
   ]
  },
  {
   "cell_type": "code",
   "execution_count": 102,
   "metadata": {},
   "outputs": [
    {
     "name": "stdout",
     "output_type": "stream",
     "text": [
      "CPU times: user 2.41 s, sys: 188 ms, total: 2.59 s\n",
      "Wall time: 2.59 s\n"
     ]
    }
   ],
   "source": [
    "%%time\n",
    "# Generating using bernoulli approximation\n",
    "nbins = 1000\n",
    "\n",
    "DeltaT = 1/nbins\n",
    "\n",
    "BinCenters = np.arange(0,1,DeltaT) + DeltaT/2\n",
    "\n",
    "RateVector = rate(BinCenters) * DeltaT\n",
    "\n",
    "Data = np.random.rand(nbins,K).T < RateVector\n",
    "\n",
    "inh_spiketimes_bernoulli  = []\n",
    "for k in range(K):\n",
    "    inh_spiketimes_bernoulli.append(np.nonzero(Data[k,:])[0]/nbins*T)"
   ]
  },
  {
   "cell_type": "code",
   "execution_count": 91,
   "metadata": {},
   "outputs": [
    {
     "data": {
      "text/plain": [
       "<BarContainer object of 100 artists>"
      ]
     },
     "execution_count": 91,
     "metadata": {},
     "output_type": "execute_result"
    },
    {
     "data": {
      "image/png": "[encoded data removed]",
      "text/plain": [
       "<Figure size 432x288 with 1 Axes>"
      ]
     },
     "metadata": {
      "needs_background": "light"
     },
     "output_type": "display_data"
    }
   ],
   "source": [
    "# Plot observed event rate in small bins\n",
    "\n",
    "AllInhEventTimes = np.hstack(inh_spiketimes_bernoulli)\n",
    "\n",
    "nHistBins = 100\n",
    "HistBins = np.linspace(0,T,nHistBins + 1)\n",
    "BinDuration = T/nHistBins\n",
    "vals, bin_edges = np.histogram(AllInhEventTimes,bins=HistBins)\n",
    "\n",
    "EventRate = vals / K / HistBinSize # Number of events observed in each bin / Number of Observations / BinDuration\n",
    "\n",
    "plt.plot(HistBins,rate(HistBins+BinDuration/2), 'r', label='Expected Rate = Ramp to 10 Hz')\n",
    "plt.gca().set_ylabel('Observed rate in small bins (Hz)')\n",
    "plt.gca().legend()\n",
    "plt.bar(HistBins[:-1] + BinDuration/2, EventRate ,width=BinDuration)"
   ]
  },
  {
   "cell_type": "markdown",
   "metadata": {},
   "source": [
    "### Inhomogeneous Poisson Process Method 2: Deletion!"
   ]
  },
  {
   "cell_type": "code",
   "execution_count": 103,
   "metadata": {},
   "outputs": [
    {
     "name": "stdout",
     "output_type": "stream",
     "text": [
      "CPU times: user 5.55 s, sys: 5.45 ms, total: 5.56 s\n",
      "Wall time: 5.55 s\n"
     ]
    }
   ],
   "source": [
    "%%time\n",
    "# Generate using Poisson and Uniform trick\n",
    "\n",
    "# First generate a homogeneous Poisson process with a rate at least as big as the maximum\n",
    "#   Inhomogeneous rate\n",
    "MaximumRate = 11 # You have to know this!\n",
    "\n",
    "Events = np.random.poisson(MaximumRate,K)\n",
    "spiketimes = []\n",
    "for k in range(K):\n",
    "    spiketimes.append(np.sort(np.random.rand(Events[k])*T))\n",
    "\n",
    "inh_spiketimes_deletion  = []    \n",
    "# Then, go through each spike and potentially delete it!!\n",
    "for k in range(K):\n",
    "    RateAtSpikeTime = rate(spiketimes[k])\n",
    "    DeletionRand = np.random.rand(*RateAtSpikeTime.shape)\n",
    "    inh_spiketimes_deletion.append( \n",
    "        np.delete(spiketimes[k], np.argwhere(DeletionRand > RateAtSpikeTime/MaximumRate)) )\n",
    "    "
   ]
  },
  {
   "cell_type": "code",
   "execution_count": 99,
   "metadata": {},
   "outputs": [
    {
     "data": {
      "text/plain": [
       "<BarContainer object of 100 artists>"
      ]
     },
     "execution_count": 99,
     "metadata": {},
     "output_type": "execute_result"
    },
    {
     "data": {
      "image/png": "[encoded data removed]",
      "text/plain": [
       "<Figure size 432x288 with 1 Axes>"
      ]
     },
     "metadata": {
      "needs_background": "light"
     },
     "output_type": "display_data"
    }
   ],
   "source": [
    "# Plot observed event rate in small bins\n",
    "\n",
    "AllInhEventTimes = np.hstack(inh_spiketimes_deletion)\n",
    "\n",
    "nHistBins = 100\n",
    "HistBins = np.linspace(0,T,nHistBins + 1)\n",
    "BinDuration = T/nHistBins\n",
    "vals, bin_edges = np.histogram(AllInhEventTimes,bins=HistBins)\n",
    "\n",
    "EventRate = vals / K / HistBinSize # Number of events observed in each bin / Number of Observations / BinDuration\n",
    "\n",
    "plt.plot(HistBins,rate(HistBins+BinDuration/2), 'r', label='Expected Rate = Ramp to 10 Hz')\n",
    "plt.gca().set_ylabel('Observed rate in small bins (Hz)')\n",
    "plt.gca().legend()\n",
    "plt.bar(HistBins[:-1] + BinDuration/2, EventRate ,width=BinDuration)"
   ]
  }
 ],
 "metadata": {
  "kernelspec": {
   "display_name": "Python 3",
   "language": "python",
   "name": "python3"
  },
  "language_info": {
   "codemirror_mode": {
    "name": "ipython",
    "version": 3
   },
   "file_extension": ".py",
   "mimetype": "text/x-python",
   "name": "python",
   "nbconvert_exporter": "python",
   "pygments_lexer": "ipython3",
   "version": "3.7.3"
  }
 },
 "nbformat": 4,
 "nbformat_minor": 2
}
